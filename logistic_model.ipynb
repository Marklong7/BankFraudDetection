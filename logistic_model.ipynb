{
 "cells": [
  {
   "cell_type": "markdown",
   "id": "f7364e9d-9c90-455e-a03a-e5069f1b551e",
   "metadata": {},
   "source": [
    "## 1. Prepare Data"
   ]
  },
  {
   "cell_type": "code",
   "execution_count": 1,
   "id": "0b6ba7d9-e4de-4dfd-bdaa-48d91a419884",
   "metadata": {},
   "outputs": [],
   "source": [
    "import pandas as pd\n",
    "import numpy as np\n",
    "import matplotlib.pyplot as plt\n",
    "import seaborn as sns\n",
    "\n",
    "from sklearn.linear_model import LogisticRegression\n",
    "from sklearn.ensemble import RandomForestClassifier\n",
    "from sklearn.metrics import auc, confusion_matrix, roc_curve, roc_auc_score\n",
    "\n",
    "from aequitas.group import Group"
   ]
  },
  {
   "cell_type": "code",
   "execution_count": 2,
   "id": "ef49d206-b851-4684-a401-1a2bfd204f62",
   "metadata": {},
   "outputs": [],
   "source": [
    "X_train = pd.read_csv(\"X_train_oh.csv\")"
   ]
  },
  {
   "cell_type": "code",
   "execution_count": 3,
   "id": "b8ddb31d-d4a3-4142-90f3-414c1c9526d7",
   "metadata": {},
   "outputs": [],
   "source": [
    "X_val = pd.read_csv(\"X_val_oh.csv\")"
   ]
  },
  {
   "cell_type": "code",
   "execution_count": 4,
   "id": "77c34ccb-bb23-4760-9ec8-33a63064c347",
   "metadata": {},
   "outputs": [],
   "source": [
    "X_test = pd.read_csv(\"X_test_oh.csv\")"
   ]
  },
  {
   "cell_type": "code",
   "execution_count": 5,
   "id": "c00492c2-066d-4d86-88bf-98865d04c556",
   "metadata": {},
   "outputs": [],
   "source": [
    "y_test = pd.read_csv(\"y_test.csv\")"
   ]
  },
  {
   "cell_type": "code",
   "execution_count": 6,
   "id": "5d018d1a-f25b-40a7-895e-7c202cad765f",
   "metadata": {},
   "outputs": [],
   "source": [
    "y_train = pd.read_csv(\"y_train.csv\")"
   ]
  },
  {
   "cell_type": "code",
   "execution_count": 7,
   "id": "3fef90fa-fe0e-42c8-af2b-1c9cd426e2cd",
   "metadata": {},
   "outputs": [],
   "source": [
    "y_val =  pd.read_csv(\"y_val.csv\")"
   ]
  },
  {
   "cell_type": "code",
   "execution_count": 8,
   "id": "d61625b3-8863-40e4-851f-13b1ca6c1d67",
   "metadata": {},
   "outputs": [],
   "source": [
    "y_test = np.array(y_test).ravel()\n",
    "y_train = np.array(y_train).ravel()\n",
    "y_val = np.array(y_val).ravel()"
   ]
  },
  {
   "cell_type": "code",
   "execution_count": 9,
   "id": "69b3b25b-58b0-4fbc-8568-bca7dda4e947",
   "metadata": {},
   "outputs": [
    {
     "name": "stdout",
     "output_type": "stream",
     "text": [
      "(794989, 50) (108168, 50) (96843, 50)\n"
     ]
    }
   ],
   "source": [
    "print(X_train.shape, X_val.shape, X_test.shape)"
   ]
  },
  {
   "cell_type": "code",
   "execution_count": 10,
   "id": "a1456809-ff23-4910-b692-22c76008d365",
   "metadata": {},
   "outputs": [
    {
     "name": "stdout",
     "output_type": "stream",
     "text": [
      "(794989,) (108168,) (96843,)\n"
     ]
    }
   ],
   "source": [
    "print(y_train.shape, y_val.shape, y_test.shape)"
   ]
  },
  {
   "cell_type": "markdown",
   "id": "cfb62578-2e1e-4852-99dd-cf7954dc1470",
   "metadata": {},
   "source": [
    "## 2. Define Matrics - performance & fairness"
   ]
  },
  {
   "cell_type": "code",
   "execution_count": 11,
   "id": "a3bcdb7d-7182-4c90-96ca-ba95fb3eec1b",
   "metadata": {},
   "outputs": [
    {
     "data": {
      "text/plain": [
       "0        40\n",
       "1        30\n",
       "2        40\n",
       "3        30\n",
       "4        20\n",
       "         ..\n",
       "96838    30\n",
       "96839    30\n",
       "96840    10\n",
       "96841    30\n",
       "96842    30\n",
       "Name: customer_age, Length: 96843, dtype: int64"
      ]
     },
     "execution_count": 11,
     "metadata": {},
     "output_type": "execute_result"
    }
   ],
   "source": [
    "X_test[\"customer_age\"]"
   ]
  },
  {
   "cell_type": "code",
   "execution_count": 12,
   "id": "1b244502-891b-4d53-b2f9-7517c63781e3",
   "metadata": {},
   "outputs": [],
   "source": [
    "def Plot_ROC(fpr, tpr):\n",
    "    plt.plot(fpr, tpr, label = 'ROC Curve')\n",
    "    plt.xlabel('False Positive Rate')\n",
    "    plt.ylabel('True Positive Rate')\n",
    "    plt.title('ROC Curve')\n",
    "    plt.legend()\n",
    "    plt.show()"
   ]
  },
  {
   "cell_type": "code",
   "execution_count": 28,
   "id": "202486a3-8eaf-4148-9c4f-13cc8c916ed9",
   "metadata": {},
   "outputs": [],
   "source": [
    "# focus on age group for now\n",
    "from IPython.display import display\n",
    "def Get_fairness_metrics(y_true, y_pred, groups, FIXED_FPR = 0.05):\n",
    "    # aequitas.group\n",
    "    g = Group()\n",
    "    aequitas_df = pd.DataFrame(\n",
    "        {\"score\": y_pred,\n",
    "         \"label_value\": y_true,\n",
    "         \"group\": groups}\n",
    "    )\n",
    "    # Use aequitas to compute confusion matrix metrics for every group.\n",
    "    disparities_df = g.get_crosstabs(aequitas_df, score_thresholds={\"score_val\": [FIXED_FPR]})[0]\n",
    "    #print(\"This is the disparities df:\")\n",
    "    #display(disparities_df)\n",
    "    predictive_equality = disparities_df[\"fpr\"].min() / disparities_df[\"fpr\"].max()\n",
    "\n",
    "    return predictive_equality, disparities_df"
   ]
  },
  {
   "cell_type": "code",
   "execution_count": 29,
   "id": "3b707bf1-2635-429b-973a-5af45b642be8",
   "metadata": {},
   "outputs": [],
   "source": [
    "def Evaluation(predictions, ground_truth, X, FIXED_FPR=0.05):\n",
    "    result = []\n",
    "    fprs, tprs, thresholds = roc_curve(ground_truth, predictions) \n",
    "    Plot_ROC(fprs, tprs)\n",
    "    \n",
    "    tpr = tprs[fprs < FIXED_FPR][-1]\n",
    "    fpr = fprs[fprs < FIXED_FPR][-1]\n",
    "    threshold = thresholds[fprs < FIXED_FPR][-1]\n",
    "    \n",
    "    pd.set_option('display.max_columns', None)  # Show all columns\n",
    "    \n",
    "    \n",
    "    print(f\"threshold FPR: {round(fpr, 4)}\")\n",
    "    \n",
    "    groups = (X[\"customer_age\"] > 50).map({True: \">50\", False: \"<=50\"})  # Define the group\n",
    "    predictive_equality, disparities_df = Get_fairness_metrics(ground_truth, predictions, groups, FIXED_FPR)\n",
    "    \n",
    "    print(\"AUC:\", roc_auc_score(ground_truth, predictions))\n",
    "    print(f\"TPR under the threshold: {round(tpr, 4)}\")\n",
    "    print(f\"Predictive Equality: {round(predictive_equality, 4)}\")\n",
    "    \n",
    "    result.append(round(tpr, 4))\n",
    "    result.append(round(predictive_equality, 4))\n",
    "    \n",
    "    return result"
   ]
  },
  {
   "cell_type": "markdown",
   "id": "5a3bf189-572b-4c1f-82b9-c6daad4b13b8",
   "metadata": {},
   "source": [
    "## 3. Modeling"
   ]
  },
  {
   "cell_type": "markdown",
   "id": "fad767c5-44d8-4c3e-a5f6-b527533705ef",
   "metadata": {},
   "source": [
    "### 3.1 vanilla logistic model"
   ]
  },
  {
   "cell_type": "code",
   "execution_count": 15,
   "id": "30cc031a-595e-4251-9d7c-0f6589fbb63a",
   "metadata": {},
   "outputs": [
    {
     "name": "stderr",
     "output_type": "stream",
     "text": [
      "/opt/anaconda3/lib/python3.11/site-packages/sklearn/linear_model/_logistic.py:458: ConvergenceWarning: lbfgs failed to converge (status=1):\n",
      "STOP: TOTAL NO. of ITERATIONS REACHED LIMIT.\n",
      "\n",
      "Increase the number of iterations (max_iter) or scale the data as shown in:\n",
      "    https://scikit-learn.org/stable/modules/preprocessing.html\n",
      "Please also refer to the documentation for alternative solver options:\n",
      "    https://scikit-learn.org/stable/modules/linear_model.html#logistic-regression\n",
      "  n_iter_i = _check_optimize_result(\n"
     ]
    }
   ],
   "source": [
    "lr_0 = LogisticRegression()\n",
    "lr_0.fit(X_train, y_train)\n",
    "y_pred = lr_0.predict_proba(X_test)[:,1]"
   ]
  },
  {
   "cell_type": "code",
   "execution_count": 16,
   "id": "e73467ea-d475-46ca-8dff-e72418581296",
   "metadata": {},
   "outputs": [
    {
     "data": {
      "image/png": "[encoded data removed]",
      "text/plain": [
       "<Figure size 640x480 with 1 Axes>"
      ]
     },
     "metadata": {},
     "output_type": "display_data"
    },
    {
     "name": "stdout",
     "output_type": "stream",
     "text": [
      "threshold FPR: 0.0497\n",
      "This is the disparities df:\n"
     ]
    },
    {
     "data": {
      "text/html": [
       "<div>\n",
       "<style scoped>\n",
       "    .dataframe tbody tr th:only-of-type {\n",
       "        vertical-align: middle;\n",
       "    }\n",
       "\n",
       "    .dataframe tbody tr th {\n",
       "        vertical-align: top;\n",
       "    }\n",
       "\n",
       "    .dataframe thead th {\n",
       "        text-align: right;\n",
       "    }\n",
       "</style>\n",
       "<table border=\"1\" class=\"dataframe\">\n",
       "  <thead>\n",
       "    <tr style=\"text-align: right;\">\n",
       "      <th></th>\n",
       "      <th>model_id</th>\n",
       "      <th>score_threshold</th>\n",
       "      <th>k</th>\n",
       "      <th>attribute_name</th>\n",
       "      <th>attribute_value</th>\n",
       "      <th>accuracy</th>\n",
       "      <th>tpr</th>\n",
       "      <th>tnr</th>\n",
       "      <th>for</th>\n",
       "      <th>fdr</th>\n",
       "      <th>fpr</th>\n",
       "      <th>fnr</th>\n",
       "      <th>npv</th>\n",
       "      <th>precision</th>\n",
       "      <th>pp</th>\n",
       "      <th>pn</th>\n",
       "      <th>ppr</th>\n",
       "      <th>pprev</th>\n",
       "      <th>fp</th>\n",
       "      <th>fn</th>\n",
       "      <th>tn</th>\n",
       "      <th>tp</th>\n",
       "      <th>group_label_pos</th>\n",
       "      <th>group_label_neg</th>\n",
       "      <th>group_size</th>\n",
       "      <th>total_entities</th>\n",
       "      <th>prev</th>\n",
       "    </tr>\n",
       "  </thead>\n",
       "  <tbody>\n",
       "    <tr>\n",
       "      <th>0</th>\n",
       "      <td>0</td>\n",
       "      <td>0.05_val</td>\n",
       "      <td>48210</td>\n",
       "      <td>group</td>\n",
       "      <td>&lt;=50</td>\n",
       "      <td>0.515628</td>\n",
       "      <td>0.712480</td>\n",
       "      <td>0.512938</td>\n",
       "      <td>0.007602</td>\n",
       "      <td>0.98040</td>\n",
       "      <td>0.487062</td>\n",
       "      <td>0.287520</td>\n",
       "      <td>0.992398</td>\n",
       "      <td>0.01960</td>\n",
       "      <td>46021</td>\n",
       "      <td>47880</td>\n",
       "      <td>0.954594</td>\n",
       "      <td>0.490101</td>\n",
       "      <td>45119</td>\n",
       "      <td>364</td>\n",
       "      <td>47516</td>\n",
       "      <td>902</td>\n",
       "      <td>1266</td>\n",
       "      <td>92635</td>\n",
       "      <td>93901</td>\n",
       "      <td>96843</td>\n",
       "      <td>0.013482</td>\n",
       "    </tr>\n",
       "    <tr>\n",
       "      <th>1</th>\n",
       "      <td>0</td>\n",
       "      <td>0.05_val</td>\n",
       "      <td>48210</td>\n",
       "      <td>group</td>\n",
       "      <td>&gt;50</td>\n",
       "      <td>0.297417</td>\n",
       "      <td>0.876543</td>\n",
       "      <td>0.263669</td>\n",
       "      <td>0.026560</td>\n",
       "      <td>0.93513</td>\n",
       "      <td>0.736331</td>\n",
       "      <td>0.123457</td>\n",
       "      <td>0.973440</td>\n",
       "      <td>0.06487</td>\n",
       "      <td>2189</td>\n",
       "      <td>753</td>\n",
       "      <td>0.045406</td>\n",
       "      <td>0.744052</td>\n",
       "      <td>2047</td>\n",
       "      <td>20</td>\n",
       "      <td>733</td>\n",
       "      <td>142</td>\n",
       "      <td>162</td>\n",
       "      <td>2780</td>\n",
       "      <td>2942</td>\n",
       "      <td>96843</td>\n",
       "      <td>0.055065</td>\n",
       "    </tr>\n",
       "  </tbody>\n",
       "</table>\n",
       "</div>"
      ],
      "text/plain": [
       "   model_id score_threshold      k attribute_name attribute_value  accuracy  \\\n",
       "0         0        0.05_val  48210          group            <=50  0.515628   \n",
       "1         0        0.05_val  48210          group             >50  0.297417   \n",
       "\n",
       "        tpr       tnr       for      fdr       fpr       fnr       npv  \\\n",
       "0  0.712480  0.512938  0.007602  0.98040  0.487062  0.287520  0.992398   \n",
       "1  0.876543  0.263669  0.026560  0.93513  0.736331  0.123457  0.973440   \n",
       "\n",
       "   precision     pp     pn       ppr     pprev     fp   fn     tn   tp  \\\n",
       "0    0.01960  46021  47880  0.954594  0.490101  45119  364  47516  902   \n",
       "1    0.06487   2189    753  0.045406  0.744052   2047   20    733  142   \n",
       "\n",
       "   group_label_pos  group_label_neg  group_size  total_entities      prev  \n",
       "0             1266            92635       93901           96843  0.013482  \n",
       "1              162             2780        2942           96843  0.055065  "
      ]
     },
     "metadata": {},
     "output_type": "display_data"
    },
    {
     "name": "stdout",
     "output_type": "stream",
     "text": [
      "AUC: 0.6848180387283562\n",
      "TPR under the threshold: 0.2409\n",
      "Predictive Equality: 0.6615\n"
     ]
    },
    {
     "data": {
      "text/plain": [
       "[0.2409, 0.6615]"
      ]
     },
     "execution_count": 16,
     "metadata": {},
     "output_type": "execute_result"
    }
   ],
   "source": [
    "Evaluation(y_pred, y_test, X = X_test)"
   ]
  },
  {
   "cell_type": "markdown",
   "id": "4e936b51-f0ae-48a3-a758-12ba5f0c5267",
   "metadata": {},
   "source": [
    "### 3.2 logistic model change slover to 'newton-cholesky' as it performs good when sample >> features"
   ]
  },
  {
   "cell_type": "code",
   "execution_count": 17,
   "id": "aca3071f-2bc0-47f7-9ca4-0468d3360187",
   "metadata": {},
   "outputs": [],
   "source": [
    "lr_1 = LogisticRegression(solver = 'newton-cholesky')\n",
    "lr_1.fit(X_train, y_train)\n",
    "y_pred = lr_1.predict_proba(X_test)[:,1]"
   ]
  },
  {
   "cell_type": "code",
   "execution_count": 18,
   "id": "8fccea37-4986-45bd-a47c-622617e8679f",
   "metadata": {},
   "outputs": [
    {
     "data": {
      "image/png": "[encoded data removed]",
      "text/plain": [
       "<Figure size 640x480 with 1 Axes>"
      ]
     },
     "metadata": {},
     "output_type": "display_data"
    },
    {
     "name": "stdout",
     "output_type": "stream",
     "text": [
      "threshold FPR: 0.0498\n",
      "This is the disparities df:\n"
     ]
    },
    {
     "data": {
      "text/html": [
       "<div>\n",
       "<style scoped>\n",
       "    .dataframe tbody tr th:only-of-type {\n",
       "        vertical-align: middle;\n",
       "    }\n",
       "\n",
       "    .dataframe tbody tr th {\n",
       "        vertical-align: top;\n",
       "    }\n",
       "\n",
       "    .dataframe thead th {\n",
       "        text-align: right;\n",
       "    }\n",
       "</style>\n",
       "<table border=\"1\" class=\"dataframe\">\n",
       "  <thead>\n",
       "    <tr style=\"text-align: right;\">\n",
       "      <th></th>\n",
       "      <th>model_id</th>\n",
       "      <th>score_threshold</th>\n",
       "      <th>k</th>\n",
       "      <th>attribute_name</th>\n",
       "      <th>attribute_value</th>\n",
       "      <th>accuracy</th>\n",
       "      <th>tpr</th>\n",
       "      <th>tnr</th>\n",
       "      <th>for</th>\n",
       "      <th>fdr</th>\n",
       "      <th>fpr</th>\n",
       "      <th>fnr</th>\n",
       "      <th>npv</th>\n",
       "      <th>precision</th>\n",
       "      <th>pp</th>\n",
       "      <th>pn</th>\n",
       "      <th>ppr</th>\n",
       "      <th>pprev</th>\n",
       "      <th>fp</th>\n",
       "      <th>fn</th>\n",
       "      <th>tn</th>\n",
       "      <th>tp</th>\n",
       "      <th>group_label_pos</th>\n",
       "      <th>group_label_neg</th>\n",
       "      <th>group_size</th>\n",
       "      <th>total_entities</th>\n",
       "      <th>prev</th>\n",
       "    </tr>\n",
       "  </thead>\n",
       "  <tbody>\n",
       "    <tr>\n",
       "      <th>0</th>\n",
       "      <td>0</td>\n",
       "      <td>0.05_val</td>\n",
       "      <td>2897</td>\n",
       "      <td>group</td>\n",
       "      <td>&lt;=50</td>\n",
       "      <td>0.969053</td>\n",
       "      <td>0.358610</td>\n",
       "      <td>0.977395</td>\n",
       "      <td>0.008889</td>\n",
       "      <td>0.821821</td>\n",
       "      <td>0.022605</td>\n",
       "      <td>0.641390</td>\n",
       "      <td>0.991111</td>\n",
       "      <td>0.178179</td>\n",
       "      <td>2548</td>\n",
       "      <td>91353</td>\n",
       "      <td>0.879531</td>\n",
       "      <td>0.027135</td>\n",
       "      <td>2094</td>\n",
       "      <td>812</td>\n",
       "      <td>90541</td>\n",
       "      <td>454</td>\n",
       "      <td>1266</td>\n",
       "      <td>92635</td>\n",
       "      <td>93901</td>\n",
       "      <td>96843</td>\n",
       "      <td>0.013482</td>\n",
       "    </tr>\n",
       "    <tr>\n",
       "      <th>1</th>\n",
       "      <td>0</td>\n",
       "      <td>0.05_val</td>\n",
       "      <td>2897</td>\n",
       "      <td>group</td>\n",
       "      <td>&gt;50</td>\n",
       "      <td>0.889531</td>\n",
       "      <td>0.574074</td>\n",
       "      <td>0.907914</td>\n",
       "      <td>0.026610</td>\n",
       "      <td>0.733524</td>\n",
       "      <td>0.092086</td>\n",
       "      <td>0.425926</td>\n",
       "      <td>0.973390</td>\n",
       "      <td>0.266476</td>\n",
       "      <td>349</td>\n",
       "      <td>2593</td>\n",
       "      <td>0.120469</td>\n",
       "      <td>0.118627</td>\n",
       "      <td>256</td>\n",
       "      <td>69</td>\n",
       "      <td>2524</td>\n",
       "      <td>93</td>\n",
       "      <td>162</td>\n",
       "      <td>2780</td>\n",
       "      <td>2942</td>\n",
       "      <td>96843</td>\n",
       "      <td>0.055065</td>\n",
       "    </tr>\n",
       "  </tbody>\n",
       "</table>\n",
       "</div>"
      ],
      "text/plain": [
       "   model_id score_threshold     k attribute_name attribute_value  accuracy  \\\n",
       "0         0        0.05_val  2897          group            <=50  0.969053   \n",
       "1         0        0.05_val  2897          group             >50  0.889531   \n",
       "\n",
       "        tpr       tnr       for       fdr       fpr       fnr       npv  \\\n",
       "0  0.358610  0.977395  0.008889  0.821821  0.022605  0.641390  0.991111   \n",
       "1  0.574074  0.907914  0.026610  0.733524  0.092086  0.425926  0.973390   \n",
       "\n",
       "   precision    pp     pn       ppr     pprev    fp   fn     tn   tp  \\\n",
       "0   0.178179  2548  91353  0.879531  0.027135  2094  812  90541  454   \n",
       "1   0.266476   349   2593  0.120469  0.118627   256   69   2524   93   \n",
       "\n",
       "   group_label_pos  group_label_neg  group_size  total_entities      prev  \n",
       "0             1266            92635       93901           96843  0.013482  \n",
       "1              162             2780        2942           96843  0.055065  "
      ]
     },
     "metadata": {},
     "output_type": "display_data"
    },
    {
     "name": "stdout",
     "output_type": "stream",
     "text": [
      "AUC: 0.8799894490102284\n",
      "TPR under the threshold: 0.5168\n",
      "Predictive Equality: 0.2455\n"
     ]
    },
    {
     "data": {
      "text/plain": [
       "[0.5168, 0.2455]"
      ]
     },
     "execution_count": 18,
     "metadata": {},
     "output_type": "execute_result"
    }
   ],
   "source": [
    "Evaluation(y_pred, y_test, X = X_test)"
   ]
  },
  {
   "cell_type": "markdown",
   "id": "07614598-18fa-4d9c-8d4f-9dc243e29c9a",
   "metadata": {},
   "source": [
    "### How to interpret this model?\n",
    "As the author (Pedro Saleiro) of thr paper said, they are interested in finding the models with highest TPR above 0.8 predictive equality.\n",
    "\n",
    "The lr_1 has a TPR of 50.14% and Predictive Equality of 31.42%, means the model is not ideal."
   ]
  },
  {
   "cell_type": "markdown",
   "id": "443af251-1c53-4c32-8d2c-e812029d7c9d",
   "metadata": {},
   "source": [
    "### 3-2. fine-tuned logistic model, with feature engineering and hyperparameter select."
   ]
  },
  {
   "cell_type": "code",
   "execution_count": 19,
   "id": "aad2a4d1-84dd-4964-b9ce-71ecf39b2ca9",
   "metadata": {},
   "outputs": [],
   "source": [
    "# 1st, apply log transformation on X_train, X_test, and X_val dataset for [prev_address_months_count, current_address_months_count, days_since_request, intended_balcon_amount, bank_branch_count_8w, bank_months_count, session_length_in_minutes].\n",
    "# Based on the EDA result in another ipynb, we apply log transformation on these highly right-skewed features.\n",
    "features_to_log_transform = [\n",
    "    'prev_address_months_count', \n",
    "    'days_since_request', \n",
    "    'intended_balcon_amount', \n",
    "    'bank_branch_count_8w', \n",
    "    'bank_months_count', \n",
    "    'session_length_in_minutes'\n",
    "]"
   ]
  },
  {
   "cell_type": "code",
   "execution_count": 20,
   "id": "97880e51-7764-468b-9f9e-4d4684215048",
   "metadata": {},
   "outputs": [],
   "source": [
    "def log_transform(df, features):\n",
    "    for feature in features:\n",
    "        df[feature] = df[feature].apply(lambda x: np.log1p(x) if x >= 0 else x)\n",
    "    return df"
   ]
  },
  {
   "cell_type": "code",
   "execution_count": 21,
   "id": "79c48f90-7557-4caa-bb44-0e29af24766d",
   "metadata": {},
   "outputs": [],
   "source": [
    "# apply log-transformation\n",
    "X_train_transformed = log_transform(X_train.copy(), features_to_log_transform)\n",
    "X_test_transformed = log_transform(X_test.copy(), features_to_log_transform)\n",
    "X_val_transformed = log_transform(X_val.copy(), features_to_log_transform)"
   ]
  },
  {
   "cell_type": "code",
   "execution_count": 22,
   "id": "5d982a8a-0c2b-4d4a-ac43-420b324f6b98",
   "metadata": {},
   "outputs": [
    {
     "name": "stdout",
     "output_type": "stream",
     "text": [
      "(794989, 50) (96843, 50) (108168, 50)\n",
      "(794989,) (96843,) (108168,)\n"
     ]
    }
   ],
   "source": [
    "print(X_train_transformed.shape, X_test_transformed.shape, X_val_transformed.shape)\n",
    "print(y_train.shape, y_test.shape, y_val.shape)"
   ]
  },
  {
   "cell_type": "code",
   "execution_count": 23,
   "id": "82eb83e0-c5d8-4c1b-8b16-6b04a35644c2",
   "metadata": {},
   "outputs": [
    {
     "name": "stderr",
     "output_type": "stream",
     "text": [
      "/opt/anaconda3/lib/python3.11/site-packages/sklearn/utils/optimize.py:210: ConvergenceWarning: newton-cg failed to converge. Increase the number of iterations.\n",
      "  warnings.warn(\n"
     ]
    }
   ],
   "source": [
    "# newton-cg\n",
    "# newton-cholesky\n",
    "lr_3 = LogisticRegression(solver = 'newton-cg')\n",
    "lr_3.fit(X_train_transformed, y_train)\n",
    "y_pred_3 = lr_3.predict_proba(X_test_transformed)[:,1]"
   ]
  },
  {
   "cell_type": "code",
   "execution_count": 24,
   "id": "8660db38-3f67-48b3-bf28-7e6ffe452020",
   "metadata": {},
   "outputs": [
    {
     "data": {
      "image/png": "[encoded data removed]",
      "text/plain": [
       "<Figure size 640x480 with 1 Axes>"
      ]
     },
     "metadata": {},
     "output_type": "display_data"
    },
    {
     "name": "stdout",
     "output_type": "stream",
     "text": [
      "threshold FPR: 0.0496\n",
      "This is the disparities df:\n"
     ]
    },
    {
     "data": {
      "text/html": [
       "<div>\n",
       "<style scoped>\n",
       "    .dataframe tbody tr th:only-of-type {\n",
       "        vertical-align: middle;\n",
       "    }\n",
       "\n",
       "    .dataframe tbody tr th {\n",
       "        vertical-align: top;\n",
       "    }\n",
       "\n",
       "    .dataframe thead th {\n",
       "        text-align: right;\n",
       "    }\n",
       "</style>\n",
       "<table border=\"1\" class=\"dataframe\">\n",
       "  <thead>\n",
       "    <tr style=\"text-align: right;\">\n",
       "      <th></th>\n",
       "      <th>model_id</th>\n",
       "      <th>score_threshold</th>\n",
       "      <th>k</th>\n",
       "      <th>attribute_name</th>\n",
       "      <th>attribute_value</th>\n",
       "      <th>accuracy</th>\n",
       "      <th>tpr</th>\n",
       "      <th>tnr</th>\n",
       "      <th>for</th>\n",
       "      <th>fdr</th>\n",
       "      <th>fpr</th>\n",
       "      <th>fnr</th>\n",
       "      <th>npv</th>\n",
       "      <th>precision</th>\n",
       "      <th>pp</th>\n",
       "      <th>pn</th>\n",
       "      <th>ppr</th>\n",
       "      <th>pprev</th>\n",
       "      <th>fp</th>\n",
       "      <th>fn</th>\n",
       "      <th>tn</th>\n",
       "      <th>tp</th>\n",
       "      <th>group_label_pos</th>\n",
       "      <th>group_label_neg</th>\n",
       "      <th>group_size</th>\n",
       "      <th>total_entities</th>\n",
       "      <th>prev</th>\n",
       "    </tr>\n",
       "  </thead>\n",
       "  <tbody>\n",
       "    <tr>\n",
       "      <th>0</th>\n",
       "      <td>0</td>\n",
       "      <td>0.05_val</td>\n",
       "      <td>3174</td>\n",
       "      <td>group</td>\n",
       "      <td>&lt;=50</td>\n",
       "      <td>0.966848</td>\n",
       "      <td>0.385466</td>\n",
       "      <td>0.974794</td>\n",
       "      <td>0.008542</td>\n",
       "      <td>0.827134</td>\n",
       "      <td>0.025206</td>\n",
       "      <td>0.614534</td>\n",
       "      <td>0.991458</td>\n",
       "      <td>0.172866</td>\n",
       "      <td>2823</td>\n",
       "      <td>91078</td>\n",
       "      <td>0.889414</td>\n",
       "      <td>0.030064</td>\n",
       "      <td>2335</td>\n",
       "      <td>778</td>\n",
       "      <td>90300</td>\n",
       "      <td>488</td>\n",
       "      <td>1266</td>\n",
       "      <td>92635</td>\n",
       "      <td>93901</td>\n",
       "      <td>96843</td>\n",
       "      <td>0.013482</td>\n",
       "    </tr>\n",
       "    <tr>\n",
       "      <th>1</th>\n",
       "      <td>0</td>\n",
       "      <td>0.05_val</td>\n",
       "      <td>3174</td>\n",
       "      <td>group</td>\n",
       "      <td>&gt;50</td>\n",
       "      <td>0.889531</td>\n",
       "      <td>0.580247</td>\n",
       "      <td>0.907554</td>\n",
       "      <td>0.026245</td>\n",
       "      <td>0.732194</td>\n",
       "      <td>0.092446</td>\n",
       "      <td>0.419753</td>\n",
       "      <td>0.973755</td>\n",
       "      <td>0.267806</td>\n",
       "      <td>351</td>\n",
       "      <td>2591</td>\n",
       "      <td>0.110586</td>\n",
       "      <td>0.119307</td>\n",
       "      <td>257</td>\n",
       "      <td>68</td>\n",
       "      <td>2523</td>\n",
       "      <td>94</td>\n",
       "      <td>162</td>\n",
       "      <td>2780</td>\n",
       "      <td>2942</td>\n",
       "      <td>96843</td>\n",
       "      <td>0.055065</td>\n",
       "    </tr>\n",
       "  </tbody>\n",
       "</table>\n",
       "</div>"
      ],
      "text/plain": [
       "   model_id score_threshold     k attribute_name attribute_value  accuracy  \\\n",
       "0         0        0.05_val  3174          group            <=50  0.966848   \n",
       "1         0        0.05_val  3174          group             >50  0.889531   \n",
       "\n",
       "        tpr       tnr       for       fdr       fpr       fnr       npv  \\\n",
       "0  0.385466  0.974794  0.008542  0.827134  0.025206  0.614534  0.991458   \n",
       "1  0.580247  0.907554  0.026245  0.732194  0.092446  0.419753  0.973755   \n",
       "\n",
       "   precision    pp     pn       ppr     pprev    fp   fn     tn   tp  \\\n",
       "0   0.172866  2823  91078  0.889414  0.030064  2335  778  90300  488   \n",
       "1   0.267806   351   2591  0.110586  0.119307   257   68   2523   94   \n",
       "\n",
       "   group_label_pos  group_label_neg  group_size  total_entities      prev  \n",
       "0             1266            92635       93901           96843  0.013482  \n",
       "1              162             2780        2942           96843  0.055065  "
      ]
     },
     "metadata": {},
     "output_type": "display_data"
    },
    {
     "name": "stdout",
     "output_type": "stream",
     "text": [
      "AUC: 0.8863967826820505\n",
      "TPR under the threshold: 0.5322\n",
      "Predictive Equality: 0.2727\n"
     ]
    },
    {
     "data": {
      "text/plain": [
       "[0.5322, 0.2727]"
      ]
     },
     "execution_count": 24,
     "metadata": {},
     "output_type": "execute_result"
    }
   ],
   "source": [
    "Evaluation(y_pred_3, y_test, X = X_test_transformed)"
   ]
  },
  {
   "cell_type": "code",
   "execution_count": 33,
   "id": "723040d5-f24a-45df-9f01-d720c9b13c8c",
   "metadata": {},
   "outputs": [
    {
     "name": "stdout",
     "output_type": "stream",
     "text": [
      "A model is being trained\n"
     ]
    },
    {
     "name": "stderr",
     "output_type": "stream",
     "text": [
      "/opt/anaconda3/lib/python3.11/site-packages/sklearn/utils/optimize.py:210: ConvergenceWarning: newton-cg failed to converge. Increase the number of iterations.\n",
      "  warnings.warn(\n"
     ]
    },
    {
     "data": {
      "image/png": "[encoded data removed]",
      "text/plain": [
       "<Figure size 640x480 with 1 Axes>"
      ]
     },
     "metadata": {},
     "output_type": "display_data"
    },
    {
     "name": "stdout",
     "output_type": "stream",
     "text": [
      "threshold FPR: 0.05\n",
      "AUC: 0.8806742229440013\n",
      "TPR under the threshold: 0.5021\n",
      "Predictive Equality: 0.3309\n",
      "curr best parameters: {'C': 0.005, 'max_iter': 100, 'solver': 'newton-cg'}\n",
      "-----------------------------------\n",
      "A model is being trained\n"
     ]
    },
    {
     "name": "stderr",
     "output_type": "stream",
     "text": [
      "/opt/anaconda3/lib/python3.11/site-packages/scipy/optimize/_linesearch.py:314: LineSearchWarning: The line search algorithm did not converge\n",
      "  warn('The line search algorithm did not converge', LineSearchWarning)\n",
      "/opt/anaconda3/lib/python3.11/site-packages/sklearn/utils/optimize.py:203: UserWarning: Line Search failed\n",
      "  warnings.warn(\"Line Search failed\")\n"
     ]
    },
    {
     "data": {
      "image/png": "[encoded data removed]",
      "text/plain": [
       "<Figure size 640x480 with 1 Axes>"
      ]
     },
     "metadata": {},
     "output_type": "display_data"
    },
    {
     "name": "stdout",
     "output_type": "stream",
     "text": [
      "threshold FPR: 0.0499\n",
      "AUC: 0.8807285007021406\n",
      "TPR under the threshold: 0.5014\n",
      "Predictive Equality: 0.3133\n",
      "A model is being trained\n"
     ]
    },
    {
     "ename": "KeyboardInterrupt",
     "evalue": "",
     "output_type": "error",
     "traceback": [
      "\u001b[0;31m---------------------------------------------------------------------------\u001b[0m",
      "\u001b[0;31mKeyboardInterrupt\u001b[0m                         Traceback (most recent call last)",
      "Cell \u001b[0;32mIn[33], line 15\u001b[0m\n\u001b[1;32m     13\u001b[0m \u001b[38;5;28mprint\u001b[39m(\u001b[38;5;124m\"\u001b[39m\u001b[38;5;124mA model is being trained\u001b[39m\u001b[38;5;124m\"\u001b[39m)\n\u001b[1;32m     14\u001b[0m lr_model \u001b[38;5;241m=\u001b[39m LogisticRegression(solver\u001b[38;5;241m=\u001b[39mthe_solver, C\u001b[38;5;241m=\u001b[39mC, max_iter\u001b[38;5;241m=\u001b[39mmax_iter)\n\u001b[0;32m---> 15\u001b[0m lr_model\u001b[38;5;241m.\u001b[39mfit(X_train_transformed, y_train)\n\u001b[1;32m     17\u001b[0m y_pred_val \u001b[38;5;241m=\u001b[39m lr_model\u001b[38;5;241m.\u001b[39mpredict_proba(X_val_transformed)[:, \u001b[38;5;241m1\u001b[39m]\n\u001b[1;32m     18\u001b[0m \u001b[38;5;66;03m# Current performance\u001b[39;00m\n",
      "File \u001b[0;32m/opt/anaconda3/lib/python3.11/site-packages/sklearn/linear_model/_logistic.py:1291\u001b[0m, in \u001b[0;36mLogisticRegression.fit\u001b[0;34m(self, X, y, sample_weight)\u001b[0m\n\u001b[1;32m   1288\u001b[0m \u001b[38;5;28;01melse\u001b[39;00m:\n\u001b[1;32m   1289\u001b[0m     n_threads \u001b[38;5;241m=\u001b[39m \u001b[38;5;241m1\u001b[39m\n\u001b[0;32m-> 1291\u001b[0m fold_coefs_ \u001b[38;5;241m=\u001b[39m Parallel(n_jobs\u001b[38;5;241m=\u001b[39m\u001b[38;5;28mself\u001b[39m\u001b[38;5;241m.\u001b[39mn_jobs, verbose\u001b[38;5;241m=\u001b[39m\u001b[38;5;28mself\u001b[39m\u001b[38;5;241m.\u001b[39mverbose, prefer\u001b[38;5;241m=\u001b[39mprefer)(\n\u001b[1;32m   1292\u001b[0m     path_func(\n\u001b[1;32m   1293\u001b[0m         X,\n\u001b[1;32m   1294\u001b[0m         y,\n\u001b[1;32m   1295\u001b[0m         pos_class\u001b[38;5;241m=\u001b[39mclass_,\n\u001b[1;32m   1296\u001b[0m         Cs\u001b[38;5;241m=\u001b[39m[C_],\n\u001b[1;32m   1297\u001b[0m         l1_ratio\u001b[38;5;241m=\u001b[39m\u001b[38;5;28mself\u001b[39m\u001b[38;5;241m.\u001b[39ml1_ratio,\n\u001b[1;32m   1298\u001b[0m         fit_intercept\u001b[38;5;241m=\u001b[39m\u001b[38;5;28mself\u001b[39m\u001b[38;5;241m.\u001b[39mfit_intercept,\n\u001b[1;32m   1299\u001b[0m         tol\u001b[38;5;241m=\u001b[39m\u001b[38;5;28mself\u001b[39m\u001b[38;5;241m.\u001b[39mtol,\n\u001b[1;32m   1300\u001b[0m         verbose\u001b[38;5;241m=\u001b[39m\u001b[38;5;28mself\u001b[39m\u001b[38;5;241m.\u001b[39mverbose,\n\u001b[1;32m   1301\u001b[0m         solver\u001b[38;5;241m=\u001b[39msolver,\n\u001b[1;32m   1302\u001b[0m         multi_class\u001b[38;5;241m=\u001b[39mmulti_class,\n\u001b[1;32m   1303\u001b[0m         max_iter\u001b[38;5;241m=\u001b[39m\u001b[38;5;28mself\u001b[39m\u001b[38;5;241m.\u001b[39mmax_iter,\n\u001b[1;32m   1304\u001b[0m         class_weight\u001b[38;5;241m=\u001b[39m\u001b[38;5;28mself\u001b[39m\u001b[38;5;241m.\u001b[39mclass_weight,\n\u001b[1;32m   1305\u001b[0m         check_input\u001b[38;5;241m=\u001b[39m\u001b[38;5;28;01mFalse\u001b[39;00m,\n\u001b[1;32m   1306\u001b[0m         random_state\u001b[38;5;241m=\u001b[39m\u001b[38;5;28mself\u001b[39m\u001b[38;5;241m.\u001b[39mrandom_state,\n\u001b[1;32m   1307\u001b[0m         coef\u001b[38;5;241m=\u001b[39mwarm_start_coef_,\n\u001b[1;32m   1308\u001b[0m         penalty\u001b[38;5;241m=\u001b[39mpenalty,\n\u001b[1;32m   1309\u001b[0m         max_squared_sum\u001b[38;5;241m=\u001b[39mmax_squared_sum,\n\u001b[1;32m   1310\u001b[0m         sample_weight\u001b[38;5;241m=\u001b[39msample_weight,\n\u001b[1;32m   1311\u001b[0m         n_threads\u001b[38;5;241m=\u001b[39mn_threads,\n\u001b[1;32m   1312\u001b[0m     )\n\u001b[1;32m   1313\u001b[0m     \u001b[38;5;28;01mfor\u001b[39;00m class_, warm_start_coef_ \u001b[38;5;129;01min\u001b[39;00m \u001b[38;5;28mzip\u001b[39m(classes_, warm_start_coef)\n\u001b[1;32m   1314\u001b[0m )\n\u001b[1;32m   1316\u001b[0m fold_coefs_, _, n_iter_ \u001b[38;5;241m=\u001b[39m \u001b[38;5;28mzip\u001b[39m(\u001b[38;5;241m*\u001b[39mfold_coefs_)\n\u001b[1;32m   1317\u001b[0m \u001b[38;5;28mself\u001b[39m\u001b[38;5;241m.\u001b[39mn_iter_ \u001b[38;5;241m=\u001b[39m np\u001b[38;5;241m.\u001b[39masarray(n_iter_, dtype\u001b[38;5;241m=\u001b[39mnp\u001b[38;5;241m.\u001b[39mint32)[:, \u001b[38;5;241m0\u001b[39m]\n",
      "File \u001b[0;32m/opt/anaconda3/lib/python3.11/site-packages/sklearn/utils/parallel.py:63\u001b[0m, in \u001b[0;36mParallel.__call__\u001b[0;34m(self, iterable)\u001b[0m\n\u001b[1;32m     58\u001b[0m config \u001b[38;5;241m=\u001b[39m get_config()\n\u001b[1;32m     59\u001b[0m iterable_with_config \u001b[38;5;241m=\u001b[39m (\n\u001b[1;32m     60\u001b[0m     (_with_config(delayed_func, config), args, kwargs)\n\u001b[1;32m     61\u001b[0m     \u001b[38;5;28;01mfor\u001b[39;00m delayed_func, args, kwargs \u001b[38;5;129;01min\u001b[39;00m iterable\n\u001b[1;32m     62\u001b[0m )\n\u001b[0;32m---> 63\u001b[0m \u001b[38;5;28;01mreturn\u001b[39;00m \u001b[38;5;28msuper\u001b[39m()\u001b[38;5;241m.\u001b[39m\u001b[38;5;21m__call__\u001b[39m(iterable_with_config)\n",
      "File \u001b[0;32m/opt/anaconda3/lib/python3.11/site-packages/joblib/parallel.py:1085\u001b[0m, in \u001b[0;36mParallel.__call__\u001b[0;34m(self, iterable)\u001b[0m\n\u001b[1;32m   1076\u001b[0m \u001b[38;5;28;01mtry\u001b[39;00m:\n\u001b[1;32m   1077\u001b[0m     \u001b[38;5;66;03m# Only set self._iterating to True if at least a batch\u001b[39;00m\n\u001b[1;32m   1078\u001b[0m     \u001b[38;5;66;03m# was dispatched. In particular this covers the edge\u001b[39;00m\n\u001b[0;32m   (...)\u001b[0m\n\u001b[1;32m   1082\u001b[0m     \u001b[38;5;66;03m# was very quick and its callback already dispatched all the\u001b[39;00m\n\u001b[1;32m   1083\u001b[0m     \u001b[38;5;66;03m# remaining jobs.\u001b[39;00m\n\u001b[1;32m   1084\u001b[0m     \u001b[38;5;28mself\u001b[39m\u001b[38;5;241m.\u001b[39m_iterating \u001b[38;5;241m=\u001b[39m \u001b[38;5;28;01mFalse\u001b[39;00m\n\u001b[0;32m-> 1085\u001b[0m     \u001b[38;5;28;01mif\u001b[39;00m \u001b[38;5;28mself\u001b[39m\u001b[38;5;241m.\u001b[39mdispatch_one_batch(iterator):\n\u001b[1;32m   1086\u001b[0m         \u001b[38;5;28mself\u001b[39m\u001b[38;5;241m.\u001b[39m_iterating \u001b[38;5;241m=\u001b[39m \u001b[38;5;28mself\u001b[39m\u001b[38;5;241m.\u001b[39m_original_iterator \u001b[38;5;129;01mis\u001b[39;00m \u001b[38;5;129;01mnot\u001b[39;00m \u001b[38;5;28;01mNone\u001b[39;00m\n\u001b[1;32m   1088\u001b[0m     \u001b[38;5;28;01mwhile\u001b[39;00m \u001b[38;5;28mself\u001b[39m\u001b[38;5;241m.\u001b[39mdispatch_one_batch(iterator):\n",
      "File \u001b[0;32m/opt/anaconda3/lib/python3.11/site-packages/joblib/parallel.py:901\u001b[0m, in \u001b[0;36mParallel.dispatch_one_batch\u001b[0;34m(self, iterator)\u001b[0m\n\u001b[1;32m    899\u001b[0m     \u001b[38;5;28;01mreturn\u001b[39;00m \u001b[38;5;28;01mFalse\u001b[39;00m\n\u001b[1;32m    900\u001b[0m \u001b[38;5;28;01melse\u001b[39;00m:\n\u001b[0;32m--> 901\u001b[0m     \u001b[38;5;28mself\u001b[39m\u001b[38;5;241m.\u001b[39m_dispatch(tasks)\n\u001b[1;32m    902\u001b[0m     \u001b[38;5;28;01mreturn\u001b[39;00m \u001b[38;5;28;01mTrue\u001b[39;00m\n",
      "File \u001b[0;32m/opt/anaconda3/lib/python3.11/site-packages/joblib/parallel.py:819\u001b[0m, in \u001b[0;36mParallel._dispatch\u001b[0;34m(self, batch)\u001b[0m\n\u001b[1;32m    817\u001b[0m \u001b[38;5;28;01mwith\u001b[39;00m \u001b[38;5;28mself\u001b[39m\u001b[38;5;241m.\u001b[39m_lock:\n\u001b[1;32m    818\u001b[0m     job_idx \u001b[38;5;241m=\u001b[39m \u001b[38;5;28mlen\u001b[39m(\u001b[38;5;28mself\u001b[39m\u001b[38;5;241m.\u001b[39m_jobs)\n\u001b[0;32m--> 819\u001b[0m     job \u001b[38;5;241m=\u001b[39m \u001b[38;5;28mself\u001b[39m\u001b[38;5;241m.\u001b[39m_backend\u001b[38;5;241m.\u001b[39mapply_async(batch, callback\u001b[38;5;241m=\u001b[39mcb)\n\u001b[1;32m    820\u001b[0m     \u001b[38;5;66;03m# A job can complete so quickly than its callback is\u001b[39;00m\n\u001b[1;32m    821\u001b[0m     \u001b[38;5;66;03m# called before we get here, causing self._jobs to\u001b[39;00m\n\u001b[1;32m    822\u001b[0m     \u001b[38;5;66;03m# grow. To ensure correct results ordering, .insert is\u001b[39;00m\n\u001b[1;32m    823\u001b[0m     \u001b[38;5;66;03m# used (rather than .append) in the following line\u001b[39;00m\n\u001b[1;32m    824\u001b[0m     \u001b[38;5;28mself\u001b[39m\u001b[38;5;241m.\u001b[39m_jobs\u001b[38;5;241m.\u001b[39minsert(job_idx, job)\n",
      "File \u001b[0;32m/opt/anaconda3/lib/python3.11/site-packages/joblib/_parallel_backends.py:208\u001b[0m, in \u001b[0;36mSequentialBackend.apply_async\u001b[0;34m(self, func, callback)\u001b[0m\n\u001b[1;32m    206\u001b[0m \u001b[38;5;28;01mdef\u001b[39;00m \u001b[38;5;21mapply_async\u001b[39m(\u001b[38;5;28mself\u001b[39m, func, callback\u001b[38;5;241m=\u001b[39m\u001b[38;5;28;01mNone\u001b[39;00m):\n\u001b[1;32m    207\u001b[0m \u001b[38;5;250m    \u001b[39m\u001b[38;5;124;03m\"\"\"Schedule a func to be run\"\"\"\u001b[39;00m\n\u001b[0;32m--> 208\u001b[0m     result \u001b[38;5;241m=\u001b[39m ImmediateResult(func)\n\u001b[1;32m    209\u001b[0m     \u001b[38;5;28;01mif\u001b[39;00m callback:\n\u001b[1;32m    210\u001b[0m         callback(result)\n",
      "File \u001b[0;32m/opt/anaconda3/lib/python3.11/site-packages/joblib/_parallel_backends.py:597\u001b[0m, in \u001b[0;36mImmediateResult.__init__\u001b[0;34m(self, batch)\u001b[0m\n\u001b[1;32m    594\u001b[0m \u001b[38;5;28;01mdef\u001b[39;00m \u001b[38;5;21m__init__\u001b[39m(\u001b[38;5;28mself\u001b[39m, batch):\n\u001b[1;32m    595\u001b[0m     \u001b[38;5;66;03m# Don't delay the application, to avoid keeping the input\u001b[39;00m\n\u001b[1;32m    596\u001b[0m     \u001b[38;5;66;03m# arguments in memory\u001b[39;00m\n\u001b[0;32m--> 597\u001b[0m     \u001b[38;5;28mself\u001b[39m\u001b[38;5;241m.\u001b[39mresults \u001b[38;5;241m=\u001b[39m batch()\n",
      "File \u001b[0;32m/opt/anaconda3/lib/python3.11/site-packages/joblib/parallel.py:288\u001b[0m, in \u001b[0;36mBatchedCalls.__call__\u001b[0;34m(self)\u001b[0m\n\u001b[1;32m    284\u001b[0m \u001b[38;5;28;01mdef\u001b[39;00m \u001b[38;5;21m__call__\u001b[39m(\u001b[38;5;28mself\u001b[39m):\n\u001b[1;32m    285\u001b[0m     \u001b[38;5;66;03m# Set the default nested backend to self._backend but do not set the\u001b[39;00m\n\u001b[1;32m    286\u001b[0m     \u001b[38;5;66;03m# change the default number of processes to -1\u001b[39;00m\n\u001b[1;32m    287\u001b[0m     \u001b[38;5;28;01mwith\u001b[39;00m parallel_backend(\u001b[38;5;28mself\u001b[39m\u001b[38;5;241m.\u001b[39m_backend, n_jobs\u001b[38;5;241m=\u001b[39m\u001b[38;5;28mself\u001b[39m\u001b[38;5;241m.\u001b[39m_n_jobs):\n\u001b[0;32m--> 288\u001b[0m         \u001b[38;5;28;01mreturn\u001b[39;00m [func(\u001b[38;5;241m*\u001b[39margs, \u001b[38;5;241m*\u001b[39m\u001b[38;5;241m*\u001b[39mkwargs)\n\u001b[1;32m    289\u001b[0m                 \u001b[38;5;28;01mfor\u001b[39;00m func, args, kwargs \u001b[38;5;129;01min\u001b[39;00m \u001b[38;5;28mself\u001b[39m\u001b[38;5;241m.\u001b[39mitems]\n",
      "File \u001b[0;32m/opt/anaconda3/lib/python3.11/site-packages/joblib/parallel.py:288\u001b[0m, in \u001b[0;36m<listcomp>\u001b[0;34m(.0)\u001b[0m\n\u001b[1;32m    284\u001b[0m \u001b[38;5;28;01mdef\u001b[39;00m \u001b[38;5;21m__call__\u001b[39m(\u001b[38;5;28mself\u001b[39m):\n\u001b[1;32m    285\u001b[0m     \u001b[38;5;66;03m# Set the default nested backend to self._backend but do not set the\u001b[39;00m\n\u001b[1;32m    286\u001b[0m     \u001b[38;5;66;03m# change the default number of processes to -1\u001b[39;00m\n\u001b[1;32m    287\u001b[0m     \u001b[38;5;28;01mwith\u001b[39;00m parallel_backend(\u001b[38;5;28mself\u001b[39m\u001b[38;5;241m.\u001b[39m_backend, n_jobs\u001b[38;5;241m=\u001b[39m\u001b[38;5;28mself\u001b[39m\u001b[38;5;241m.\u001b[39m_n_jobs):\n\u001b[0;32m--> 288\u001b[0m         \u001b[38;5;28;01mreturn\u001b[39;00m [func(\u001b[38;5;241m*\u001b[39margs, \u001b[38;5;241m*\u001b[39m\u001b[38;5;241m*\u001b[39mkwargs)\n\u001b[1;32m    289\u001b[0m                 \u001b[38;5;28;01mfor\u001b[39;00m func, args, kwargs \u001b[38;5;129;01min\u001b[39;00m \u001b[38;5;28mself\u001b[39m\u001b[38;5;241m.\u001b[39mitems]\n",
      "File \u001b[0;32m/opt/anaconda3/lib/python3.11/site-packages/sklearn/utils/parallel.py:123\u001b[0m, in \u001b[0;36m_FuncWrapper.__call__\u001b[0;34m(self, *args, **kwargs)\u001b[0m\n\u001b[1;32m    121\u001b[0m     config \u001b[38;5;241m=\u001b[39m {}\n\u001b[1;32m    122\u001b[0m \u001b[38;5;28;01mwith\u001b[39;00m config_context(\u001b[38;5;241m*\u001b[39m\u001b[38;5;241m*\u001b[39mconfig):\n\u001b[0;32m--> 123\u001b[0m     \u001b[38;5;28;01mreturn\u001b[39;00m \u001b[38;5;28mself\u001b[39m\u001b[38;5;241m.\u001b[39mfunction(\u001b[38;5;241m*\u001b[39margs, \u001b[38;5;241m*\u001b[39m\u001b[38;5;241m*\u001b[39mkwargs)\n",
      "File \u001b[0;32m/opt/anaconda3/lib/python3.11/site-packages/sklearn/linear_model/_logistic.py:468\u001b[0m, in \u001b[0;36m_logistic_regression_path\u001b[0;34m(X, y, pos_class, Cs, fit_intercept, max_iter, tol, verbose, solver, coef, class_weight, dual, penalty, intercept_scaling, multi_class, random_state, check_input, max_squared_sum, sample_weight, l1_ratio, n_threads)\u001b[0m\n\u001b[1;32m    466\u001b[0m     l2_reg_strength \u001b[38;5;241m=\u001b[39m \u001b[38;5;241m1.0\u001b[39m \u001b[38;5;241m/\u001b[39m C\n\u001b[1;32m    467\u001b[0m     args \u001b[38;5;241m=\u001b[39m (X, target, sample_weight, l2_reg_strength, n_threads)\n\u001b[0;32m--> 468\u001b[0m     w0, n_iter_i \u001b[38;5;241m=\u001b[39m _newton_cg(\n\u001b[1;32m    469\u001b[0m         hess, func, grad, w0, args\u001b[38;5;241m=\u001b[39margs, maxiter\u001b[38;5;241m=\u001b[39mmax_iter, tol\u001b[38;5;241m=\u001b[39mtol\n\u001b[1;32m    470\u001b[0m     )\n\u001b[1;32m    471\u001b[0m \u001b[38;5;28;01melif\u001b[39;00m solver \u001b[38;5;241m==\u001b[39m \u001b[38;5;124m\"\u001b[39m\u001b[38;5;124mnewton-cholesky\u001b[39m\u001b[38;5;124m\"\u001b[39m:\n\u001b[1;32m    472\u001b[0m     \u001b[38;5;66;03m# The division by sw_sum is a consequence of the rescaling of\u001b[39;00m\n\u001b[1;32m    473\u001b[0m     \u001b[38;5;66;03m# sample_weight, see comment above.\u001b[39;00m\n\u001b[1;32m    474\u001b[0m     l2_reg_strength \u001b[38;5;241m=\u001b[39m \u001b[38;5;241m1.0\u001b[39m \u001b[38;5;241m/\u001b[39m C \u001b[38;5;241m/\u001b[39m sw_sum\n",
      "File \u001b[0;32m/opt/anaconda3/lib/python3.11/site-packages/sklearn/utils/optimize.py:193\u001b[0m, in \u001b[0;36m_newton_cg\u001b[0;34m(grad_hess, func, grad, x0, args, tol, maxiter, maxinner, line_search, warn)\u001b[0m\n\u001b[1;32m    189\u001b[0m termcond \u001b[38;5;241m=\u001b[39m eta \u001b[38;5;241m*\u001b[39m maggrad\n\u001b[1;32m    191\u001b[0m \u001b[38;5;66;03m# Inner loop: solve the Newton update by conjugate gradient, to\u001b[39;00m\n\u001b[1;32m    192\u001b[0m \u001b[38;5;66;03m# avoid inverting the Hessian\u001b[39;00m\n\u001b[0;32m--> 193\u001b[0m xsupi \u001b[38;5;241m=\u001b[39m _cg(fhess_p, fgrad, maxiter\u001b[38;5;241m=\u001b[39mmaxinner, tol\u001b[38;5;241m=\u001b[39mtermcond)\n\u001b[1;32m    195\u001b[0m alphak \u001b[38;5;241m=\u001b[39m \u001b[38;5;241m1.0\u001b[39m\n\u001b[1;32m    197\u001b[0m \u001b[38;5;28;01mif\u001b[39;00m line_search:\n",
      "File \u001b[0;32m/opt/anaconda3/lib/python3.11/site-packages/sklearn/utils/optimize.py:88\u001b[0m, in \u001b[0;36m_cg\u001b[0;34m(fhess_p, fgrad, maxiter, tol)\u001b[0m\n\u001b[1;32m     85\u001b[0m \u001b[38;5;28;01mif\u001b[39;00m np\u001b[38;5;241m.\u001b[39msum(np\u001b[38;5;241m.\u001b[39mabs(ri)) \u001b[38;5;241m<\u001b[39m\u001b[38;5;241m=\u001b[39m tol:\n\u001b[1;32m     86\u001b[0m     \u001b[38;5;28;01mbreak\u001b[39;00m\n\u001b[0;32m---> 88\u001b[0m Ap \u001b[38;5;241m=\u001b[39m fhess_p(psupi)\n\u001b[1;32m     89\u001b[0m \u001b[38;5;66;03m# check curvature\u001b[39;00m\n\u001b[1;32m     90\u001b[0m curv \u001b[38;5;241m=\u001b[39m np\u001b[38;5;241m.\u001b[39mdot(psupi, Ap)\n",
      "File \u001b[0;32m/opt/anaconda3/lib/python3.11/site-packages/sklearn/linear_model/_linear_loss.py:585\u001b[0m, in \u001b[0;36mLinearModelLoss.gradient_hessian_product.<locals>.hessp\u001b[0;34m(s)\u001b[0m\n\u001b[1;32m    583\u001b[0m     ret[:n_features] \u001b[38;5;241m=\u001b[39m X\u001b[38;5;241m.\u001b[39mT \u001b[38;5;241m@\u001b[39m (hX \u001b[38;5;241m@\u001b[39m s[:n_features])\n\u001b[1;32m    584\u001b[0m \u001b[38;5;28;01melse\u001b[39;00m:\n\u001b[0;32m--> 585\u001b[0m     ret[:n_features] \u001b[38;5;241m=\u001b[39m np\u001b[38;5;241m.\u001b[39mlinalg\u001b[38;5;241m.\u001b[39mmulti_dot([X\u001b[38;5;241m.\u001b[39mT, hX, s[:n_features]])\n\u001b[1;32m    586\u001b[0m ret[:n_features] \u001b[38;5;241m+\u001b[39m\u001b[38;5;241m=\u001b[39m l2_reg_strength \u001b[38;5;241m*\u001b[39m s[:n_features]\n\u001b[1;32m    588\u001b[0m \u001b[38;5;28;01mif\u001b[39;00m \u001b[38;5;28mself\u001b[39m\u001b[38;5;241m.\u001b[39mfit_intercept:\n",
      "File \u001b[0;32m<__array_function__ internals>:180\u001b[0m, in \u001b[0;36mmulti_dot\u001b[0;34m(*args, **kwargs)\u001b[0m\n",
      "File \u001b[0;32m/opt/anaconda3/lib/python3.11/site-packages/numpy/linalg/linalg.py:2724\u001b[0m, in \u001b[0;36mmulti_dot\u001b[0;34m(arrays, out)\u001b[0m\n\u001b[1;32m   2722\u001b[0m \u001b[38;5;66;03m# _multi_dot_three is much faster than _multi_dot_matrix_chain_order\u001b[39;00m\n\u001b[1;32m   2723\u001b[0m \u001b[38;5;28;01mif\u001b[39;00m n \u001b[38;5;241m==\u001b[39m \u001b[38;5;241m3\u001b[39m:\n\u001b[0;32m-> 2724\u001b[0m     result \u001b[38;5;241m=\u001b[39m _multi_dot_three(arrays[\u001b[38;5;241m0\u001b[39m], arrays[\u001b[38;5;241m1\u001b[39m], arrays[\u001b[38;5;241m2\u001b[39m], out\u001b[38;5;241m=\u001b[39mout)\n\u001b[1;32m   2725\u001b[0m \u001b[38;5;28;01melse\u001b[39;00m:\n\u001b[1;32m   2726\u001b[0m     order \u001b[38;5;241m=\u001b[39m _multi_dot_matrix_chain_order(arrays)\n",
      "File \u001b[0;32m/opt/anaconda3/lib/python3.11/site-packages/numpy/linalg/linalg.py:2756\u001b[0m, in \u001b[0;36m_multi_dot_three\u001b[0;34m(A, B, C, out)\u001b[0m\n\u001b[1;32m   2754\u001b[0m     \u001b[38;5;28;01mreturn\u001b[39;00m dot(dot(A, B), C, out\u001b[38;5;241m=\u001b[39mout)\n\u001b[1;32m   2755\u001b[0m \u001b[38;5;28;01melse\u001b[39;00m:\n\u001b[0;32m-> 2756\u001b[0m     \u001b[38;5;28;01mreturn\u001b[39;00m dot(A, dot(B, C), out\u001b[38;5;241m=\u001b[39mout)\n",
      "File \u001b[0;32m<__array_function__ internals>:180\u001b[0m, in \u001b[0;36mdot\u001b[0;34m(*args, **kwargs)\u001b[0m\n",
      "\u001b[0;31mKeyboardInterrupt\u001b[0m: "
     ]
    }
   ],
   "source": [
    "C_values = [0.005, 0.01, 0.015, 0.02]  # Regularization parameter\n",
    "max_iter_values = [150, 200, 250, 300]    # Maximum number of iterations\n",
    "available_slovers = ['newton-cg', 'newton-cholesky']\n",
    "\n",
    "best_score = 0  \n",
    "best_params = {}\n",
    "\n",
    "# Iterate through hyperparameters\n",
    "for C in C_values:\n",
    "    for the_solver in available_solvers:\n",
    "        for max_iter in max_iter_values:\n",
    "            # Define and train Logistic Regression model with current hyperparameters\n",
    "            print(\"A model is being trained\")\n",
    "            lr_model = LogisticRegression(solver=the_solver, C=C, max_iter=max_iter)\n",
    "            lr_model.fit(X_train_transformed, y_train)\n",
    "        \n",
    "            y_pred_val = lr_model.predict_proba(X_val_transformed)[:, 1]\n",
    "            # Current performance\n",
    "        \n",
    "            current_score = Evaluation(y_pred_val, y_val, X = X_val_transformed)[0]\n",
    "            # Update best score and parameters if current model performs better\n",
    "            if current_score > best_score:\n",
    "                best_score = current_score\n",
    "                best_params = {'C': C, 'max_iter': max_iter, 'solver':the_solver}\n",
    "                print(\"curr best parameters:\", best_params)\n",
    "                print(\"-----------------------------------\")\n",
    "\n",
    "\n",
    "# Train the best model\n",
    "best_lr_model = LogisticRegression(**best_params)\n",
    "best_lr_model.fit(X_train_transformed, y_train)\n",
    "\n",
    "# Make predictions with the best model\n",
    "y_pred_2 = best_lr_model.predict_proba(X_test_transformed)[:, 1]\n",
    "\n",
    "# Calculate the evaluation metric\n",
    "evaluation_result = Evaluation(y_pred_2, y_test, X = X_test_transformed)[0]\n",
    "\n",
    "# Print the best parameters and evaluation result\n",
    "print(\"Best Parameters:\", best_params)\n",
    "print(\"Evaluation Result:\", evaluation_result)"
   ]
  },
  {
   "cell_type": "code",
   "execution_count": null,
   "id": "72ad05d4-01b3-4097-8a35-b83964f15618",
   "metadata": {},
   "outputs": [],
   "source": [
    "# 0.01, 200, newton-cg\n",
    "print(\"Best Parameters:\", best_params)\n",
    "print(\"Evaluation Result:\", evaluation_result)"
   ]
  },
  {
   "cell_type": "code",
   "execution_count": null,
   "id": "0e493b14-0373-4a79-b7a4-67c634aca993",
   "metadata": {},
   "outputs": [],
   "source": []
  }
 ],
 "metadata": {
  "kernelspec": {
   "display_name": "Python 3 (ipykernel)",
   "language": "python",
   "name": "python3"
  },
  "language_info": {
   "codemirror_mode": {
    "name": "ipython",
    "version": 3
   },
   "file_extension": ".py",
   "mimetype": "text/x-python",
   "name": "python",
   "nbconvert_exporter": "python",
   "pygments_lexer": "ipython3",
   "version": "3.11.8"
  }
 },
 "nbformat": 4,
 "nbformat_minor": 5
}
