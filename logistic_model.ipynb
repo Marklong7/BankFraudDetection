{
 "cells": [
  {
   "cell_type": "markdown",
   "id": "f7364e9d-9c90-455e-a03a-e5069f1b551e",
   "metadata": {},
   "source": [
    "## 1. Prepare Data"
   ]
  },
  {
   "cell_type": "code",
   "execution_count": 1,
   "id": "0b6ba7d9-e4de-4dfd-bdaa-48d91a419884",
   "metadata": {},
   "outputs": [],
   "source": [
    "import pandas as pd\n",
    "import numpy as np\n",
    "import matplotlib.pyplot as plt\n",
    "import seaborn as sns\n",
    "\n",
    "from sklearn.linear_model import LogisticRegression\n",
    "from sklearn.ensemble import RandomForestClassifier\n",
    "from sklearn.metrics import auc, confusion_matrix, roc_curve, roc_auc_score\n",
    "\n",
    "from aequitas.group import Group"
   ]
  },
  {
   "cell_type": "code",
   "execution_count": 2,
   "id": "77c34ccb-bb23-4760-9ec8-33a63064c347",
   "metadata": {},
   "outputs": [],
   "source": [
    "X_test = pd.read_csv(\"X_test_oh.csv\")"
   ]
  },
  {
   "cell_type": "code",
   "execution_count": 3,
   "id": "27d86752-be25-44c8-a6fa-01c07555f243",
   "metadata": {},
   "outputs": [],
   "source": [
    "X_train = pd.read_csv(\"X_train_oh.csv\")"
   ]
  },
  {
   "cell_type": "code",
   "execution_count": 4,
   "id": "2bfa8a25-60ad-481d-ae7f-619f35d5e7e2",
   "metadata": {},
   "outputs": [],
   "source": [
    "X_val = pd.read_csv(\"X_val_oh.csv\")"
   ]
  },
  {
   "cell_type": "code",
   "execution_count": 5,
   "id": "5d7e3b5b-eb9e-4bda-ba8c-bbcf38aca651",
   "metadata": {},
   "outputs": [],
   "source": [
    "y_test = pd.read_csv(\"y_test_oh.csv\")"
   ]
  },
  {
   "cell_type": "code",
   "execution_count": 6,
   "id": "09a7a929-ffd8-422d-94c5-b0a6b54f3c28",
   "metadata": {},
   "outputs": [],
   "source": [
    "y_train = pd.read_csv(\"y_train_oh.csv\")"
   ]
  },
  {
   "cell_type": "code",
   "execution_count": 7,
   "id": "336f7f6b-8665-4bf5-b960-72723d468745",
   "metadata": {},
   "outputs": [],
   "source": [
    "y_val = pd.read_csv(\"y_val_oh.csv\")"
   ]
  },
  {
   "cell_type": "code",
   "execution_count": 8,
   "id": "c00492c2-066d-4d86-88bf-98865d04c556",
   "metadata": {},
   "outputs": [],
   "source": [
    "y_test = np.array(y_test).ravel()"
   ]
  },
  {
   "cell_type": "code",
   "execution_count": 9,
   "id": "5d018d1a-f25b-40a7-895e-7c202cad765f",
   "metadata": {},
   "outputs": [],
   "source": [
    "y_train = np.array(y_train).ravel()"
   ]
  },
  {
   "cell_type": "code",
   "execution_count": 10,
   "id": "3fef90fa-fe0e-42c8-af2b-1c9cd426e2cd",
   "metadata": {},
   "outputs": [],
   "source": [
    "y_val = np.array(y_val).ravel()"
   ]
  },
  {
   "cell_type": "markdown",
   "id": "cfb62578-2e1e-4852-99dd-cf7954dc1470",
   "metadata": {},
   "source": [
    "## 2. Define Matrics - performance & fairness"
   ]
  },
  {
   "cell_type": "code",
   "execution_count": 11,
   "id": "a3bcdb7d-7182-4c90-96ca-ba95fb3eec1b",
   "metadata": {},
   "outputs": [
    {
     "data": {
      "text/plain": [
       "0         50\n",
       "1         20\n",
       "2         30\n",
       "3         40\n",
       "4         20\n",
       "          ..\n",
       "108163    60\n",
       "108164    30\n",
       "108165    40\n",
       "108166    40\n",
       "108167    40\n",
       "Name: customer_age, Length: 108168, dtype: int64"
      ]
     },
     "execution_count": 11,
     "metadata": {},
     "output_type": "execute_result"
    }
   ],
   "source": [
    "X_test[\"customer_age\"]"
   ]
  },
  {
   "cell_type": "code",
   "execution_count": 12,
   "id": "1b244502-891b-4d53-b2f9-7517c63781e3",
   "metadata": {},
   "outputs": [],
   "source": [
    "def Plot_ROC(fpr, tpr):\n",
    "    plt.plot(fpr, tpr, label = 'ROC Curve')\n",
    "    plt.xlabel('False Positive Rate')\n",
    "    plt.ylabel('True Positive Rate')\n",
    "    plt.title('ROC Curve')\n",
    "    plt.legend()\n",
    "    plt.show()"
   ]
  },
  {
   "cell_type": "code",
   "execution_count": 13,
   "id": "202486a3-8eaf-4148-9c4f-13cc8c916ed9",
   "metadata": {},
   "outputs": [],
   "source": [
    "# focus on age group for now\n",
    "from IPython.display import display\n",
    "def Get_fairness_metrics(y_true, y_pred, groups, FIXED_FPR = 0.05):\n",
    "    # aequitas.group\n",
    "    g = Group()\n",
    "    aequitas_df = pd.DataFrame(\n",
    "        {\"score\": y_pred,\n",
    "         \"label_value\": y_true,\n",
    "         \"group\": groups}\n",
    "    )\n",
    "    # Use aequitas to compute confusion matrix metrics for every group.\n",
    "    disparities_df = g.get_crosstabs(aequitas_df, score_thresholds={\"score_val\": [FIXED_FPR]})[0]\n",
    "    print(\"This is the disparities df:\")\n",
    "    display(disparities_df)\n",
    "    predictive_equality = disparities_df[\"fpr\"].min() / disparities_df[\"fpr\"].max()\n",
    "\n",
    "    return predictive_equality, disparities_df"
   ]
  },
  {
   "cell_type": "code",
   "execution_count": 14,
   "id": "3b707bf1-2635-429b-973a-5af45b642be8",
   "metadata": {},
   "outputs": [],
   "source": [
    "def Evaluation(predictions, ground_truth, X, FIXED_FPR=0.05):\n",
    "    result = []\n",
    "    fprs, tprs, thresholds = roc_curve(ground_truth, predictions) \n",
    "    Plot_ROC(fprs, tprs)\n",
    "    \n",
    "    tpr = tprs[fprs < FIXED_FPR][-1]\n",
    "    fpr = fprs[fprs < FIXED_FPR][-1]\n",
    "    threshold = thresholds[fprs < FIXED_FPR][-1]\n",
    "    \n",
    "    pd.set_option('display.max_columns', None)  # Show all columns\n",
    "    \n",
    "    # print(\"AUC:\", roc_auc_score(ground_truth, predictions))\n",
    "    \n",
    "    print(f\"Fixed FPR: {round(fpr, 4)}\")\n",
    "    \n",
    "    groups = (X[\"customer_age\"] > 50).map({True: \">50\", False: \"<=50\"})  # Define the group\n",
    "    predictive_equality, disparities_df = Get_fairness_metrics(ground_truth, predictions, groups, FIXED_FPR)\n",
    "\n",
    "    # print(f\"TPR under the threshold: {round(tpr, 4)}\")\n",
    "    print(f\"Predictive Equality: {round(predictive_equality, 4)}\")\n",
    "    \n",
    "    result.append(round(tpr, 4))\n",
    "    result.append(round(predictive_equality, 4))\n",
    "    \n",
    "    return result"
   ]
  },
  {
   "cell_type": "markdown",
   "id": "5a3bf189-572b-4c1f-82b9-c6daad4b13b8",
   "metadata": {},
   "source": [
    "## 3. Modeling"
   ]
  },
  {
   "cell_type": "markdown",
   "id": "fad767c5-44d8-4c3e-a5f6-b527533705ef",
   "metadata": {},
   "source": [
    "### 3.1 vanilla logistic model"
   ]
  },
  {
   "cell_type": "code",
   "execution_count": 15,
   "id": "30cc031a-595e-4251-9d7c-0f6589fbb63a",
   "metadata": {},
   "outputs": [
    {
     "name": "stderr",
     "output_type": "stream",
     "text": [
      "/opt/anaconda3/lib/python3.11/site-packages/sklearn/linear_model/_logistic.py:458: ConvergenceWarning: lbfgs failed to converge (status=1):\n",
      "STOP: TOTAL NO. of ITERATIONS REACHED LIMIT.\n",
      "\n",
      "Increase the number of iterations (max_iter) or scale the data as shown in:\n",
      "    https://scikit-learn.org/stable/modules/preprocessing.html\n",
      "Please also refer to the documentation for alternative solver options:\n",
      "    https://scikit-learn.org/stable/modules/linear_model.html#logistic-regression\n",
      "  n_iter_i = _check_optimize_result(\n"
     ]
    }
   ],
   "source": [
    "lr_0 = LogisticRegression()\n",
    "lr_0.fit(X_train, y_train)\n",
    "y_pred = lr_0.predict_proba(X_test)[:,1]"
   ]
  },
  {
   "cell_type": "code",
   "execution_count": 16,
   "id": "e73467ea-d475-46ca-8dff-e72418581296",
   "metadata": {},
   "outputs": [
    {
     "data": {
      "image/png": "[encoded data removed]",
      "text/plain": [
       "<Figure size 640x480 with 1 Axes>"
      ]
     },
     "metadata": {},
     "output_type": "display_data"
    },
    {
     "name": "stdout",
     "output_type": "stream",
     "text": [
      "Fixed FPR: 0.05\n",
      "This is the disparities df:\n"
     ]
    },
    {
     "data": {
      "text/html": [
       "<div>\n",
       "<style scoped>\n",
       "    .dataframe tbody tr th:only-of-type {\n",
       "        vertical-align: middle;\n",
       "    }\n",
       "\n",
       "    .dataframe tbody tr th {\n",
       "        vertical-align: top;\n",
       "    }\n",
       "\n",
       "    .dataframe thead th {\n",
       "        text-align: right;\n",
       "    }\n",
       "</style>\n",
       "<table border=\"1\" class=\"dataframe\">\n",
       "  <thead>\n",
       "    <tr style=\"text-align: right;\">\n",
       "      <th></th>\n",
       "      <th>model_id</th>\n",
       "      <th>score_threshold</th>\n",
       "      <th>k</th>\n",
       "      <th>attribute_name</th>\n",
       "      <th>attribute_value</th>\n",
       "      <th>accuracy</th>\n",
       "      <th>tpr</th>\n",
       "      <th>tnr</th>\n",
       "      <th>for</th>\n",
       "      <th>fdr</th>\n",
       "      <th>fpr</th>\n",
       "      <th>fnr</th>\n",
       "      <th>npv</th>\n",
       "      <th>precision</th>\n",
       "      <th>pp</th>\n",
       "      <th>pn</th>\n",
       "      <th>ppr</th>\n",
       "      <th>pprev</th>\n",
       "      <th>fp</th>\n",
       "      <th>fn</th>\n",
       "      <th>tn</th>\n",
       "      <th>tp</th>\n",
       "      <th>group_label_pos</th>\n",
       "      <th>group_label_neg</th>\n",
       "      <th>group_size</th>\n",
       "      <th>total_entities</th>\n",
       "      <th>prev</th>\n",
       "    </tr>\n",
       "  </thead>\n",
       "  <tbody>\n",
       "    <tr>\n",
       "      <th>0</th>\n",
       "      <td>0</td>\n",
       "      <td>0.05_val</td>\n",
       "      <td>13736</td>\n",
       "      <td>group</td>\n",
       "      <td>&lt;=50</td>\n",
       "      <td>0.879280</td>\n",
       "      <td>0.335994</td>\n",
       "      <td>0.88597</td>\n",
       "      <td>0.009145</td>\n",
       "      <td>0.964987</td>\n",
       "      <td>0.11403</td>\n",
       "      <td>0.664006</td>\n",
       "      <td>0.990855</td>\n",
       "      <td>0.035013</td>\n",
       "      <td>12024</td>\n",
       "      <td>90983</td>\n",
       "      <td>0.875364</td>\n",
       "      <td>0.116730</td>\n",
       "      <td>11603</td>\n",
       "      <td>832</td>\n",
       "      <td>90151</td>\n",
       "      <td>421</td>\n",
       "      <td>1253</td>\n",
       "      <td>101754</td>\n",
       "      <td>103007</td>\n",
       "      <td>108168</td>\n",
       "      <td>0.012164</td>\n",
       "    </tr>\n",
       "    <tr>\n",
       "      <th>1</th>\n",
       "      <td>0</td>\n",
       "      <td>0.05_val</td>\n",
       "      <td>13736</td>\n",
       "      <td>group</td>\n",
       "      <td>&gt;50</td>\n",
       "      <td>0.668475</td>\n",
       "      <td>0.502538</td>\n",
       "      <td>0.67506</td>\n",
       "      <td>0.028414</td>\n",
       "      <td>0.942173</td>\n",
       "      <td>0.32494</td>\n",
       "      <td>0.497462</td>\n",
       "      <td>0.971586</td>\n",
       "      <td>0.057827</td>\n",
       "      <td>1712</td>\n",
       "      <td>3449</td>\n",
       "      <td>0.124636</td>\n",
       "      <td>0.331719</td>\n",
       "      <td>1613</td>\n",
       "      <td>98</td>\n",
       "      <td>3351</td>\n",
       "      <td>99</td>\n",
       "      <td>197</td>\n",
       "      <td>4964</td>\n",
       "      <td>5161</td>\n",
       "      <td>108168</td>\n",
       "      <td>0.038171</td>\n",
       "    </tr>\n",
       "  </tbody>\n",
       "</table>\n",
       "</div>"
      ],
      "text/plain": [
       "   model_id score_threshold      k attribute_name attribute_value  accuracy  \\\n",
       "0         0        0.05_val  13736          group            <=50  0.879280   \n",
       "1         0        0.05_val  13736          group             >50  0.668475   \n",
       "\n",
       "        tpr      tnr       for       fdr      fpr       fnr       npv  \\\n",
       "0  0.335994  0.88597  0.009145  0.964987  0.11403  0.664006  0.990855   \n",
       "1  0.502538  0.67506  0.028414  0.942173  0.32494  0.497462  0.971586   \n",
       "\n",
       "   precision     pp     pn       ppr     pprev     fp   fn     tn   tp  \\\n",
       "0   0.035013  12024  90983  0.875364  0.116730  11603  832  90151  421   \n",
       "1   0.057827   1712   3449  0.124636  0.331719   1613   98   3351   99   \n",
       "\n",
       "   group_label_pos  group_label_neg  group_size  total_entities      prev  \n",
       "0             1253           101754      103007          108168  0.012164  \n",
       "1              197             4964        5161          108168  0.038171  "
      ]
     },
     "metadata": {},
     "output_type": "display_data"
    },
    {
     "name": "stdout",
     "output_type": "stream",
     "text": [
      "Predictive Equality: 0.3509\n"
     ]
    },
    {
     "data": {
      "text/plain": [
       "[0.2214, 0.3509]"
      ]
     },
     "execution_count": 16,
     "metadata": {},
     "output_type": "execute_result"
    }
   ],
   "source": [
    "Evaluation(y_pred, y_test, X = X_test)"
   ]
  },
  {
   "cell_type": "markdown",
   "id": "4e936b51-f0ae-48a3-a758-12ba5f0c5267",
   "metadata": {},
   "source": [
    "### 3.2 logistic model change slover to 'newton-cholesky' as it performs good when sample >> features"
   ]
  },
  {
   "cell_type": "code",
   "execution_count": 17,
   "id": "aca3071f-2bc0-47f7-9ca4-0468d3360187",
   "metadata": {},
   "outputs": [],
   "source": [
    "lr_1 = LogisticRegression(solver = 'newton-cholesky')\n",
    "lr_1.fit(X_train, y_train)\n",
    "y_pred = lr_1.predict_proba(X_test)[:,1]"
   ]
  },
  {
   "cell_type": "code",
   "execution_count": 18,
   "id": "8fccea37-4986-45bd-a47c-622617e8679f",
   "metadata": {},
   "outputs": [
    {
     "data": {
      "image/png": "[encoded data removed]",
      "text/plain": [
       "<Figure size 640x480 with 1 Axes>"
      ]
     },
     "metadata": {},
     "output_type": "display_data"
    },
    {
     "name": "stdout",
     "output_type": "stream",
     "text": [
      "Fixed FPR: 0.0499\n",
      "This is the disparities df:\n"
     ]
    },
    {
     "data": {
      "text/html": [
       "<div>\n",
       "<style scoped>\n",
       "    .dataframe tbody tr th:only-of-type {\n",
       "        vertical-align: middle;\n",
       "    }\n",
       "\n",
       "    .dataframe tbody tr th {\n",
       "        vertical-align: top;\n",
       "    }\n",
       "\n",
       "    .dataframe thead th {\n",
       "        text-align: right;\n",
       "    }\n",
       "</style>\n",
       "<table border=\"1\" class=\"dataframe\">\n",
       "  <thead>\n",
       "    <tr style=\"text-align: right;\">\n",
       "      <th></th>\n",
       "      <th>model_id</th>\n",
       "      <th>score_threshold</th>\n",
       "      <th>k</th>\n",
       "      <th>attribute_name</th>\n",
       "      <th>attribute_value</th>\n",
       "      <th>accuracy</th>\n",
       "      <th>tpr</th>\n",
       "      <th>tnr</th>\n",
       "      <th>for</th>\n",
       "      <th>fdr</th>\n",
       "      <th>fpr</th>\n",
       "      <th>fnr</th>\n",
       "      <th>npv</th>\n",
       "      <th>precision</th>\n",
       "      <th>pp</th>\n",
       "      <th>pn</th>\n",
       "      <th>ppr</th>\n",
       "      <th>pprev</th>\n",
       "      <th>fp</th>\n",
       "      <th>fn</th>\n",
       "      <th>tn</th>\n",
       "      <th>tp</th>\n",
       "      <th>group_label_pos</th>\n",
       "      <th>group_label_neg</th>\n",
       "      <th>group_size</th>\n",
       "      <th>total_entities</th>\n",
       "      <th>prev</th>\n",
       "    </tr>\n",
       "  </thead>\n",
       "  <tbody>\n",
       "    <tr>\n",
       "      <th>0</th>\n",
       "      <td>0</td>\n",
       "      <td>0.05_val</td>\n",
       "      <td>4328</td>\n",
       "      <td>group</td>\n",
       "      <td>&lt;=50</td>\n",
       "      <td>0.961187</td>\n",
       "      <td>0.379090</td>\n",
       "      <td>0.968355</td>\n",
       "      <td>0.007834</td>\n",
       "      <td>0.871448</td>\n",
       "      <td>0.031645</td>\n",
       "      <td>0.620910</td>\n",
       "      <td>0.992166</td>\n",
       "      <td>0.128552</td>\n",
       "      <td>3695</td>\n",
       "      <td>99312</td>\n",
       "      <td>0.853743</td>\n",
       "      <td>0.035871</td>\n",
       "      <td>3220</td>\n",
       "      <td>778</td>\n",
       "      <td>98534</td>\n",
       "      <td>475</td>\n",
       "      <td>1253</td>\n",
       "      <td>101754</td>\n",
       "      <td>103007</td>\n",
       "      <td>108168</td>\n",
       "      <td>0.012164</td>\n",
       "    </tr>\n",
       "    <tr>\n",
       "      <th>1</th>\n",
       "      <td>0</td>\n",
       "      <td>0.05_val</td>\n",
       "      <td>4328</td>\n",
       "      <td>group</td>\n",
       "      <td>&gt;50</td>\n",
       "      <td>0.890719</td>\n",
       "      <td>0.675127</td>\n",
       "      <td>0.899275</td>\n",
       "      <td>0.014134</td>\n",
       "      <td>0.789889</td>\n",
       "      <td>0.100725</td>\n",
       "      <td>0.324873</td>\n",
       "      <td>0.985866</td>\n",
       "      <td>0.210111</td>\n",
       "      <td>633</td>\n",
       "      <td>4528</td>\n",
       "      <td>0.146257</td>\n",
       "      <td>0.122651</td>\n",
       "      <td>500</td>\n",
       "      <td>64</td>\n",
       "      <td>4464</td>\n",
       "      <td>133</td>\n",
       "      <td>197</td>\n",
       "      <td>4964</td>\n",
       "      <td>5161</td>\n",
       "      <td>108168</td>\n",
       "      <td>0.038171</td>\n",
       "    </tr>\n",
       "  </tbody>\n",
       "</table>\n",
       "</div>"
      ],
      "text/plain": [
       "   model_id score_threshold     k attribute_name attribute_value  accuracy  \\\n",
       "0         0        0.05_val  4328          group            <=50  0.961187   \n",
       "1         0        0.05_val  4328          group             >50  0.890719   \n",
       "\n",
       "        tpr       tnr       for       fdr       fpr       fnr       npv  \\\n",
       "0  0.379090  0.968355  0.007834  0.871448  0.031645  0.620910  0.992166   \n",
       "1  0.675127  0.899275  0.014134  0.789889  0.100725  0.324873  0.985866   \n",
       "\n",
       "   precision    pp     pn       ppr     pprev    fp   fn     tn   tp  \\\n",
       "0   0.128552  3695  99312  0.853743  0.035871  3220  778  98534  475   \n",
       "1   0.210111   633   4528  0.146257  0.122651   500   64   4464  133   \n",
       "\n",
       "   group_label_pos  group_label_neg  group_size  total_entities      prev  \n",
       "0             1253           101754      103007          108168  0.012164  \n",
       "1              197             4964        5161          108168  0.038171  "
      ]
     },
     "metadata": {},
     "output_type": "display_data"
    },
    {
     "name": "stdout",
     "output_type": "stream",
     "text": [
      "Predictive Equality: 0.3142\n"
     ]
    },
    {
     "data": {
      "text/plain": [
       "[0.5014, 0.3142]"
      ]
     },
     "execution_count": 18,
     "metadata": {},
     "output_type": "execute_result"
    }
   ],
   "source": [
    "Evaluation(y_pred, y_test, X = X_test)"
   ]
  },
  {
   "cell_type": "markdown",
   "id": "07614598-18fa-4d9c-8d4f-9dc243e29c9a",
   "metadata": {},
   "source": [
    "### How to interpret this model?\n",
    "As the author (Pedro Saleiro) of thr paper said, they are interested in finding the models with highest TPR above 0.8 predictive equality.\n",
    "\n",
    "The lr_1 has a TPR of 50.14% and Predictive Equality of 31.42%, means the model is not ideal."
   ]
  },
  {
   "cell_type": "markdown",
   "id": "443af251-1c53-4c32-8d2c-e812029d7c9d",
   "metadata": {},
   "source": [
    "### 3-2. fine-tuned logistic model, with feature engineering and hyperparameter select."
   ]
  },
  {
   "cell_type": "code",
   "execution_count": 19,
   "id": "aad2a4d1-84dd-4964-b9ce-71ecf39b2ca9",
   "metadata": {},
   "outputs": [],
   "source": [
    "# 1st, apply log transformation on X_train, X_test, and X_val dataset for [prev_address_months_count, current_address_months_count, days_since_request, intended_balcon_amount, bank_branch_count_8w, bank_months_count, session_length_in_minutes].\n",
    "# Based on the EDA result in another ipynb, we apply log transformation on these highly right-skewed features.\n",
    "features_to_log_transform = [\n",
    "    'prev_address_months_count', \n",
    "    'days_since_request', \n",
    "    'intended_balcon_amount', \n",
    "    'bank_branch_count_8w', \n",
    "    'bank_months_count', \n",
    "    'session_length_in_minutes'\n",
    "]"
   ]
  },
  {
   "cell_type": "code",
   "execution_count": 20,
   "id": "97880e51-7764-468b-9f9e-4d4684215048",
   "metadata": {},
   "outputs": [],
   "source": [
    "def log_transform(df, features):\n",
    "    for feature in features:\n",
    "        df[feature] = df[feature].apply(lambda x: np.log1p(x) if x >= 0 else x)\n",
    "    return df"
   ]
  },
  {
   "cell_type": "code",
   "execution_count": 21,
   "id": "79c48f90-7557-4caa-bb44-0e29af24766d",
   "metadata": {},
   "outputs": [],
   "source": [
    "# apply log-transformation\n",
    "X_train_transformed = log_transform(X_train.copy(), features_to_log_transform)\n",
    "X_test_transformed = log_transform(X_test.copy(), features_to_log_transform)\n",
    "X_val_transformed = log_transform(X_val.copy(), features_to_log_transform)"
   ]
  },
  {
   "cell_type": "code",
   "execution_count": 22,
   "id": "5d982a8a-0c2b-4d4a-ac43-420b324f6b98",
   "metadata": {},
   "outputs": [
    {
     "name": "stdout",
     "output_type": "stream",
     "text": [
      "(794989, 50) (108168, 50) (96843, 50)\n",
      "(794989,) (108168,) (96843,)\n"
     ]
    }
   ],
   "source": [
    "print(X_train_transformed.shape, X_test_transformed.shape, X_val_transformed.shape)\n",
    "print(y_train.shape, y_test.shape, y_val.shape)"
   ]
  },
  {
   "cell_type": "code",
   "execution_count": 23,
   "id": "82eb83e0-c5d8-4c1b-8b16-6b04a35644c2",
   "metadata": {},
   "outputs": [
    {
     "name": "stderr",
     "output_type": "stream",
     "text": [
      "/opt/anaconda3/lib/python3.11/site-packages/sklearn/utils/optimize.py:210: ConvergenceWarning: newton-cg failed to converge. Increase the number of iterations.\n",
      "  warnings.warn(\n"
     ]
    }
   ],
   "source": [
    "# newton-cg\n",
    "# newton-cholesky\n",
    "lr_3 = LogisticRegression(solver = 'newton-cg')\n",
    "lr_3.fit(X_train_transformed, y_train)\n",
    "y_pred_3 = lr_3.predict_proba(X_test_transformed)[:,1]"
   ]
  },
  {
   "cell_type": "code",
   "execution_count": 24,
   "id": "8660db38-3f67-48b3-bf28-7e6ffe452020",
   "metadata": {},
   "outputs": [
    {
     "data": {
      "image/png": "[encoded data removed]",
      "text/plain": [
       "<Figure size 640x480 with 1 Axes>"
      ]
     },
     "metadata": {},
     "output_type": "display_data"
    },
    {
     "name": "stdout",
     "output_type": "stream",
     "text": [
      "Fixed FPR: 0.0497\n",
      "This is the disparities df:\n"
     ]
    },
    {
     "data": {
      "text/html": [
       "<div>\n",
       "<style scoped>\n",
       "    .dataframe tbody tr th:only-of-type {\n",
       "        vertical-align: middle;\n",
       "    }\n",
       "\n",
       "    .dataframe tbody tr th {\n",
       "        vertical-align: top;\n",
       "    }\n",
       "\n",
       "    .dataframe thead th {\n",
       "        text-align: right;\n",
       "    }\n",
       "</style>\n",
       "<table border=\"1\" class=\"dataframe\">\n",
       "  <thead>\n",
       "    <tr style=\"text-align: right;\">\n",
       "      <th></th>\n",
       "      <th>model_id</th>\n",
       "      <th>score_threshold</th>\n",
       "      <th>k</th>\n",
       "      <th>attribute_name</th>\n",
       "      <th>attribute_value</th>\n",
       "      <th>accuracy</th>\n",
       "      <th>tpr</th>\n",
       "      <th>tnr</th>\n",
       "      <th>for</th>\n",
       "      <th>fdr</th>\n",
       "      <th>fpr</th>\n",
       "      <th>fnr</th>\n",
       "      <th>npv</th>\n",
       "      <th>precision</th>\n",
       "      <th>pp</th>\n",
       "      <th>pn</th>\n",
       "      <th>ppr</th>\n",
       "      <th>pprev</th>\n",
       "      <th>fp</th>\n",
       "      <th>fn</th>\n",
       "      <th>tn</th>\n",
       "      <th>tp</th>\n",
       "      <th>group_label_pos</th>\n",
       "      <th>group_label_neg</th>\n",
       "      <th>group_size</th>\n",
       "      <th>total_entities</th>\n",
       "      <th>prev</th>\n",
       "    </tr>\n",
       "  </thead>\n",
       "  <tbody>\n",
       "    <tr>\n",
       "      <th>0</th>\n",
       "      <td>0</td>\n",
       "      <td>0.05_val</td>\n",
       "      <td>4672</td>\n",
       "      <td>group</td>\n",
       "      <td>&lt;=50</td>\n",
       "      <td>0.958595</td>\n",
       "      <td>0.411812</td>\n",
       "      <td>0.965328</td>\n",
       "      <td>0.007447</td>\n",
       "      <td>0.872404</td>\n",
       "      <td>0.034672</td>\n",
       "      <td>0.588188</td>\n",
       "      <td>0.992553</td>\n",
       "      <td>0.127596</td>\n",
       "      <td>4044</td>\n",
       "      <td>98963</td>\n",
       "      <td>0.865582</td>\n",
       "      <td>0.039259</td>\n",
       "      <td>3528</td>\n",
       "      <td>737</td>\n",
       "      <td>98226</td>\n",
       "      <td>516</td>\n",
       "      <td>1253</td>\n",
       "      <td>101754</td>\n",
       "      <td>103007</td>\n",
       "      <td>108168</td>\n",
       "      <td>0.012164</td>\n",
       "    </tr>\n",
       "    <tr>\n",
       "      <th>1</th>\n",
       "      <td>0</td>\n",
       "      <td>0.05_val</td>\n",
       "      <td>4672</td>\n",
       "      <td>group</td>\n",
       "      <td>&gt;50</td>\n",
       "      <td>0.892463</td>\n",
       "      <td>0.685279</td>\n",
       "      <td>0.900685</td>\n",
       "      <td>0.013677</td>\n",
       "      <td>0.785032</td>\n",
       "      <td>0.099315</td>\n",
       "      <td>0.314721</td>\n",
       "      <td>0.986323</td>\n",
       "      <td>0.214968</td>\n",
       "      <td>628</td>\n",
       "      <td>4533</td>\n",
       "      <td>0.134418</td>\n",
       "      <td>0.121682</td>\n",
       "      <td>493</td>\n",
       "      <td>62</td>\n",
       "      <td>4471</td>\n",
       "      <td>135</td>\n",
       "      <td>197</td>\n",
       "      <td>4964</td>\n",
       "      <td>5161</td>\n",
       "      <td>108168</td>\n",
       "      <td>0.038171</td>\n",
       "    </tr>\n",
       "  </tbody>\n",
       "</table>\n",
       "</div>"
      ],
      "text/plain": [
       "   model_id score_threshold     k attribute_name attribute_value  accuracy  \\\n",
       "0         0        0.05_val  4672          group            <=50  0.958595   \n",
       "1         0        0.05_val  4672          group             >50  0.892463   \n",
       "\n",
       "        tpr       tnr       for       fdr       fpr       fnr       npv  \\\n",
       "0  0.411812  0.965328  0.007447  0.872404  0.034672  0.588188  0.992553   \n",
       "1  0.685279  0.900685  0.013677  0.785032  0.099315  0.314721  0.986323   \n",
       "\n",
       "   precision    pp     pn       ppr     pprev    fp   fn     tn   tp  \\\n",
       "0   0.127596  4044  98963  0.865582  0.039259  3528  737  98226  516   \n",
       "1   0.214968   628   4533  0.134418  0.121682   493   62   4471  135   \n",
       "\n",
       "   group_label_pos  group_label_neg  group_size  total_entities      prev  \n",
       "0             1253           101754      103007          108168  0.012164  \n",
       "1              197             4964        5161          108168  0.038171  "
      ]
     },
     "metadata": {},
     "output_type": "display_data"
    },
    {
     "name": "stdout",
     "output_type": "stream",
     "text": [
      "Predictive Equality: 0.3491\n"
     ]
    },
    {
     "data": {
      "text/plain": [
       "[0.5034, 0.3491]"
      ]
     },
     "execution_count": 24,
     "metadata": {},
     "output_type": "execute_result"
    }
   ],
   "source": [
    "Evaluation(y_pred_3, y_test, X = X_test_transformed)"
   ]
  },
  {
   "cell_type": "code",
   "execution_count": null,
   "id": "723040d5-f24a-45df-9f01-d720c9b13c8c",
   "metadata": {},
   "outputs": [
    {
     "name": "stdout",
     "output_type": "stream",
     "text": [
      "A model is being trained\n"
     ]
    }
   ],
   "source": [
    "C_values = [0.0001, 0.001, 0.01, 0.02, 0.1]  # Regularization parameter\n",
    "max_iter_values = [200, 300, 400, 500]    # Maximum number of iterations\n",
    "available_slovers = ['newton-cg', 'newton-cholesky']\n",
    "\n",
    "best_score = 0  \n",
    "best_params = {}\n",
    "\n",
    "# Iterate through hyperparameters\n",
    "for C in C_values:\n",
    "    for the_slover in available_slovers:\n",
    "        for max_iter in max_iter_values:\n",
    "            # Define and train Logistic Regression model with current hyperparameters\n",
    "            print(\"A model is being trained\")\n",
    "            lr_model = LogisticRegression(solver=the_slover, C=C, max_iter=max_iter)\n",
    "            lr_model.fit(X_train_transformed, y_train)\n",
    "        \n",
    "            y_pred_val = lr_model.predict_proba(X_val_transformed)[:, 1]\n",
    "            # Current performance\n",
    "        \n",
    "            current_score = Evaluation(y_pred_val, y_val, X = X_val_transformed)[0]\n",
    "            # Update best score and parameters if current model performs better\n",
    "            if current_score > best_score:\n",
    "                best_score = current_score\n",
    "                best_params = {'C': C, 'max_iter': max_iter, 'slover':the_slover}\n",
    "                print(\"curr best parameters:\", best_params)\n",
    "\n",
    "# Train the best model\n",
    "best_lr_model = LogisticRegression(**best_params)\n",
    "best_lr_model.fit(X_train_transformed, y_train)\n",
    "\n",
    "# Make predictions with the best model\n",
    "y_pred_2 = best_lr_model.predict_proba(X_test_transformed)[:, 1]\n",
    "\n",
    "# Calculate the evaluation metric\n",
    "evaluation_result = Evaluation(y_pred_2, y_test)[0]\n",
    "\n",
    "# Print the best parameters and evaluation result\n",
    "print(\"Best Parameters:\", best_params)\n",
    "print(\"Evaluation Result:\", evaluation_result)"
   ]
  },
  {
   "cell_type": "code",
   "execution_count": null,
   "id": "72ad05d4-01b3-4097-8a35-b83964f15618",
   "metadata": {},
   "outputs": [],
   "source": []
  }
 ],
 "metadata": {
  "kernelspec": {
   "display_name": "Python 3 (ipykernel)",
   "language": "python",
   "name": "python3"
  },
  "language_info": {
   "codemirror_mode": {
    "name": "ipython",
    "version": 3
   },
   "file_extension": ".py",
   "mimetype": "text/x-python",
   "name": "python",
   "nbconvert_exporter": "python",
   "pygments_lexer": "ipython3",
   "version": "3.11.8"
  }
 },
 "nbformat": 4,
 "nbformat_minor": 5
}
